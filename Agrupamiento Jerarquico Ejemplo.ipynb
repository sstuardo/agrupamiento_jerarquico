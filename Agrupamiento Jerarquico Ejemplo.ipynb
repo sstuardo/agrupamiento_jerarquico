{
 "cells": [
  {
   "cell_type": "code",
   "execution_count": 1,
   "metadata": {},
   "outputs": [],
   "source": [
    "import pandas as pd\n",
    "import matplotlib.pyplot as plt\n"
   ]
  },
  {
   "cell_type": "code",
   "execution_count": 2,
   "metadata": {},
   "outputs": [],
   "source": [
    "#Carga los datos del archivo \"Wholesale customers data.csv\"\n",
    "data = pd.read_csv('Wholesale customers data.csv')"
   ]
  },
  {
   "cell_type": "code",
   "execution_count": 3,
   "metadata": {},
   "outputs": [
    {
     "data": {
      "text/plain": [
       "(440, 8)"
      ]
     },
     "execution_count": 3,
     "metadata": {},
     "output_type": "execute_result"
    }
   ],
   "source": [
    "#conocer los datos\n",
    "data.shape"
   ]
  },
  {
   "cell_type": "code",
   "execution_count": 4,
   "metadata": {},
   "outputs": [
    {
     "data": {
      "text/plain": [
       "Channel             0\n",
       "Region              0\n",
       "Fresh               0\n",
       "Milk                0\n",
       "Grocery             0\n",
       "Frozen              0\n",
       "Detergents_Paper    0\n",
       "Delicassen          0\n",
       "dtype: int64"
      ]
     },
     "execution_count": 4,
     "metadata": {},
     "output_type": "execute_result"
    }
   ],
   "source": [
    "#datos nulls\n",
    "data.isnull().sum()"
   ]
  },
  {
   "cell_type": "code",
   "execution_count": 5,
   "metadata": {},
   "outputs": [
    {
     "data": {
      "text/plain": [
       "Channel             int64\n",
       "Region              int64\n",
       "Fresh               int64\n",
       "Milk                int64\n",
       "Grocery             int64\n",
       "Frozen              int64\n",
       "Detergents_Paper    int64\n",
       "Delicassen          int64\n",
       "dtype: object"
      ]
     },
     "execution_count": 5,
     "metadata": {},
     "output_type": "execute_result"
    }
   ],
   "source": [
    "#Conocer el dormato de los datos\n",
    "data.dtypes"
   ]
  },
  {
   "cell_type": "code",
   "execution_count": 8,
   "metadata": {},
   "outputs": [
    {
     "name": "stdout",
     "output_type": "stream",
     "text": [
      "   Channel  Region  Fresh  Milk  Grocery  Frozen  Detergents_Paper  Delicassen\n",
      "0        1       3   9898   961     2861    3151               242         833\n",
      "1        1       3  45640  6958     6536    7368              1532         230\n",
      "2        1       3    518  4180     3600     659               122         654\n"
     ]
    }
   ],
   "source": [
    "#Datos de muestra para ver a que cluster corresponderan\n",
    "#Separamos estos datos, con reset eliminamos de la data de entrenamiento la muestra, para no\n",
    "#entrenar con los datos selccionados.\n",
    "\n",
    "indices = [26,176,392]\n",
    "muestras = pd.DataFrame(data.loc[indices],\n",
    "                        columns = data.keys()).reset_index(drop = True)\n",
    "print(muestras)"
   ]
  },
  {
   "cell_type": "code",
   "execution_count": 9,
   "metadata": {},
   "outputs": [],
   "source": [
    "#Procesamiento de Datos\n",
    "\n",
    "#eliminar datos no relevantes para el entrenamientoi\n",
    "data = data.drop(['Region', 'Channel'], axis = 1) #Axis = 1 son para designar columna\n",
    "muestras = muestras.drop(['Region', 'Channel'], axis = 1) #Axis = 1 son para designar columna"
   ]
  },
  {
   "cell_type": "code",
   "execution_count": 15,
   "metadata": {},
   "outputs": [],
   "source": [
    "#Escalamiento de los datos, \n",
    "#Rango de datos muy variables, es mejor generalizar.\n",
    "\n",
    "from sklearn import preprocessing\n",
    "data_escalada = preprocessing.Normalizer().fit_transform(data)\n",
    "muestra_escalada = preprocessing.Normalizer().fit_transform(muestras)"
   ]
  },
  {
   "cell_type": "code",
   "execution_count": 12,
   "metadata": {},
   "outputs": [
    {
     "data": {
      "image/png": "[encoded data removed]",
      "text/plain": [
       "<Figure size 720x504 with 1 Axes>"
      ]
     },
     "metadata": {
      "needs_background": "light"
     },
     "output_type": "display_data"
    }
   ],
   "source": [
    "#Machine Learning \n",
    "X = data_escalada\n",
    "\n",
    "#Se grafica el dendrograma para obtener el número de cluster\n",
    "import scipy.cluster.hierarchy as shc\n",
    "\n",
    "plt.figure(figsize=(10,7))\n",
    "plt.title(\"Dendrogramas\")\n",
    "dendrograma = shc.dendrogram(shc.linkage(X, method='ward')) #linage = medidas de vinculación\n",
    "\n",
    "\n",
    "##Para seleccionar el número de cluster debemos ubicar la linea verticla más larga de todas y que no sea cortada por otra\n",
    "##Por definir, si este valor debe ser 1 más pequeño del observado en el gráfico."
   ]
  },
  {
   "cell_type": "code",
   "execution_count": 13,
   "metadata": {},
   "outputs": [
    {
     "data": {
      "text/plain": [
       "AgglomerativeClustering(n_clusters=3)"
      ]
     },
     "execution_count": 13,
     "metadata": {},
     "output_type": "execute_result"
    }
   ],
   "source": [
    "#Entrenamiento del modelo \n",
    "\n",
    "from sklearn.cluster import AgglomerativeClustering\n",
    "\n",
    "algoritmo = AgglomerativeClustering(n_clusters = 3, \n",
    "                                   affinity = 'euclidean', linkage='ward')\n",
    "\n",
    "algoritmo.fit(X) \n"
   ]
  },
  {
   "cell_type": "code",
   "execution_count": 17,
   "metadata": {},
   "outputs": [
    {
     "name": "stdout",
     "output_type": "stream",
     "text": [
      "Muestra 0 se encuentra en el cluster: 2\n",
      "Muestra 1 se encuentra en el cluster: 1\n",
      "Muestra 2 se encuentra en el cluster: 0\n"
     ]
    }
   ],
   "source": [
    "#Verificamos een que cluster se agruparán los datos de muestra \n",
    "muestra_prediccion = algoritmo.fit_predict(muestra_escalada)\n",
    "\n",
    "for i, pred in enumerate(muestra_prediccion):\n",
    "    print(\"Muestra\", i, \"se encuentra en el cluster:\", pred)"
   ]
  },
  {
   "cell_type": "code",
   "execution_count": null,
   "metadata": {},
   "outputs": [],
   "source": []
  }
 ],
 "metadata": {
  "kernelspec": {
   "display_name": "Python 3",
   "language": "python",
   "name": "python3"
  },
  "language_info": {
   "codemirror_mode": {
    "name": "ipython",
    "version": 3
   },
   "file_extension": ".py",
   "mimetype": "text/x-python",
   "name": "python",
   "nbconvert_exporter": "python",
   "pygments_lexer": "ipython3",
   "version": "3.8.5"
  }
 },
 "nbformat": 4,
 "nbformat_minor": 4
}
