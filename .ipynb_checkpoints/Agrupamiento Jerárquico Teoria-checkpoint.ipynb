{
 "cells": [
  {
   "cell_type": "code",
   "execution_count": 1,
   "metadata": {},
   "outputs": [],
   "source": [
    "from sklearn.cluster import AgglomerativeClustering\n"
   ]
  },
  {
   "cell_type": "code",
   "execution_count": null,
   "metadata": {},
   "outputs": [],
   "source": [
    "class sklearn.cluster.AgglomerativeClustering(n_clusters=2,*,affinity='euclidean',memory=None, connectivity=None, \n",
    "                                              compute_full_tree='auto', linkage='ward', distance_threshold=None)\n",
    "\n",
    "#n_clustered : por defecto es 2, se refiere a la cantidad de clusters que se harán\n",
    "#affinity : Medidas de distancia \n",
    "    #euclidean: referente a la distancia euclideana\n",
    "    #manhattan: referente a la distancia manhattan\n",
    "    #cosine: Referente a la distancia del coseno\n",
    "    #precomputed: \n",
    "#si se va a utiliza linkage:ward debe ser eculidean.\n",
    "#linkage: Define que distancia usar entre los conjuntos de observación:\n",
    "    #ward(default):\n",
    "    #complete: enlace completo\n",
    "    #averege: enlace promedio\n",
    "    #single: enlace simple\n",
    "    \n"
   ]
  },
  {
   "cell_type": "code",
   "execution_count": null,
   "metadata": {},
   "outputs": [],
   "source": [
    "#Entrenando al modelo\n",
    "\n",
    "#En este caso, al ser un modelo no supervisado, la Y no tendría valores.\n",
    "fit(self, X, y=None) \n",
    "\n",
    "#Entrena y hace una predicción con la muestra \n",
    "fit_predict(self, X,y=None)"
   ]
  },
  {
   "cell_type": "code",
   "execution_count": null,
   "metadata": {},
   "outputs": [],
   "source": []
  }
 ],
 "metadata": {
  "kernelspec": {
   "display_name": "Python 3",
   "language": "python",
   "name": "python3"
  },
  "language_info": {
   "codemirror_mode": {
    "name": "ipython",
    "version": 3
   },
   "file_extension": ".py",
   "mimetype": "text/x-python",
   "name": "python",
   "nbconvert_exporter": "python",
   "pygments_lexer": "ipython3",
   "version": "3.8.5"
  }
 },
 "nbformat": 4,
 "nbformat_minor": 4
}
